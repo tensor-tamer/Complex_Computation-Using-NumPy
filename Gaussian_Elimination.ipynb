{
  "nbformat": 4,
  "nbformat_minor": 0,
  "metadata": {
    "colab": {
      "provenance": []
    },
    "kernelspec": {
      "name": "python3",
      "display_name": "Python 3"
    },
    "language_info": {
      "name": "python"
    }
  },
  "cells": [
    {
      "cell_type": "markdown",
      "source": [
        "# Complex Echelon\n",
        "The below code executes the entire Gaussian Elimination Algorithm using NumPy\n",
        "Enter the desired Matrix in the code Below"
      ],
      "metadata": {
        "id": "HqTKSQVi4Y8V"
      }
    },
    {
      "cell_type": "code",
      "execution_count": null,
      "metadata": {
        "id": "Mhy6t-vG4T8e"
      },
      "outputs": [],
      "source": [
        "import numpy as np\n",
        "\n",
        "def augmented_matrix(A, B):\n",
        "    \"\"\"\n",
        "    Create the augmented matrix from matrices A and B.\n",
        "    \"\"\"\n",
        "    return np.hstack((A, B.reshape(-1, 1)))\n",
        "\n",
        "def row_echelon_form(A, B):\n",
        "    \"\"\"\n",
        "    Utilizes elementary row operations to transform a given set of matrices,\n",
        "    which represent the coefficients and constant terms of a linear system, into row echelon form.\n",
        "\n",
        "    Parameters:\n",
        "    - A (numpy.array): The input square matrix of coefficients.\n",
        "    - B (numpy.array): The input column matrix of constant terms\n",
        "\n",
        "    Returns:\n",
        "    numpy.array: A new augmented matrix in row echelon form with pivots as 1.\n",
        "    \"\"\"\n",
        "\n",
        "    # Check if matrix A (coefficient matrix) has a non-zero determinant\n",
        "    det_A = np.linalg.det(A)\n",
        "\n",
        "    # Returns \"Singular system\" if determinant is zero\n",
        "    if np.isclose(det_A, 0):\n",
        "        return 'Singular system'\n",
        "\n",
        "    # Make copies of the input matrices to avoid modifying the originals\n",
        "    A = A.copy()\n",
        "    B = B.copy()\n",
        "\n",
        "    # Convert matrices to float to prevent integer division\n",
        "    A = A.astype('float64')\n",
        "    B = B.astype('float64')\n",
        "\n",
        "    # Number of rows in the coefficient matrix\n",
        "    num_rows = len(A)\n",
        "\n",
        "    # Transform matrices A and B into the augmented matrix M\n",
        "    M = augmented_matrix(A, B)\n",
        "\n",
        "    # Iterate over the rows.\n",
        "    for row in range(num_rows):\n",
        "\n",
        "        # The first pivot candidate is always in the main diagonal\n",
        "        pivot_candidate = M[row, row]\n",
        "\n",
        "        # If pivot_candidate is zero, check below for a non-zero value and swap rows if found\n",
        "        if np.isclose(pivot_candidate, 0):\n",
        "            # Find the first non-zero value below the pivot candidate in the current column\n",
        "            for i in range(row + 1, num_rows):\n",
        "                if not np.isclose(M[i, row], 0):\n",
        "                    M[[row, i]] = M[[i, row]]  # Swap rows\n",
        "                    break\n",
        "            pivot_candidate = M[row, row]\n",
        "\n",
        "        # If still zero, the matrix is singular and has no unique solution\n",
        "        if np.isclose(pivot_candidate, 0):\n",
        "            return 'Singular system'\n",
        "\n",
        "        # Normalize the pivot row by dividing by the pivot value\n",
        "        M[row] = M[row] / pivot_candidate\n",
        "\n",
        "        # Eliminate the values below the pivot\n",
        "        for j in range(row + 1, num_rows):\n",
        "            value_below_pivot = M[j, row]\n",
        "            M[j] = M[j] - value_below_pivot * M[row]\n",
        "\n",
        "    return M\n",
        "\n",
        "def back_substitution(M):\n",
        "    \"\"\"\n",
        "    Perform back substitution on an augmented matrix (with a unique solution)\n",
        "    in row echelon form to find the solution to the linear system.\n",
        "\n",
        "    Parameters:\n",
        "    - M (numpy.array): The augmented matrix in row echelon form with unitary pivots.\n",
        "\n",
        "    Returns:\n",
        "    numpy.array: The solution vector of the linear system.\n",
        "    \"\"\"\n",
        "    num_rows = M.shape[0]  # Get the number of rows\n",
        "    solution = np.zeros(num_rows)  # Initialize a solution vector of zeros\n",
        "\n",
        "    # Start back substitution from the last row up to the first row\n",
        "    for i in range(num_rows - 1, -1, -1):\n",
        "        # Start with the constant term (last column)\n",
        "        solution[i] = M[i, -1]\n",
        "\n",
        "        # Subtract the known values of previously solved variables\n",
        "        for j in range(i + 1, num_rows):\n",
        "            solution[i] -= M[i, j] * solution[j]\n",
        "\n",
        "    return solution\n",
        "\n",
        "def solve_linear_system(A, B):\n",
        "    \"\"\"\n",
        "    Solves the system of linear equations represented by the coefficient matrix A and\n",
        "    constant matrix B by first converting to row echelon form and then using back substitution.\n",
        "\n",
        "    Parameters:\n",
        "    - A (numpy.array): The input square matrix of coefficients.\n",
        "    - B (numpy.array): The input column matrix of constant terms.\n",
        "\n",
        "    Returns:\n",
        "    numpy.array: The solution vector of the linear system.\n",
        "    \"\"\"\n",
        "    # Step 1: Convert to row echelon form\n",
        "    row_echelon = row_echelon_form(A, B)\n",
        "\n",
        "    # Check if the system is singular\n",
        "    if isinstance(row_echelon, str) and row_echelon == 'Singular system':\n",
        "        return 'Singular system'\n",
        "\n",
        "    # Step 2: Apply back substitution to the row echelon form matrix\n",
        "    solution = back_substitution(row_echelon)\n",
        "\n",
        "    return solution"
      ]
    },
    {
      "cell_type": "markdown",
      "source": [
        "# Input\n",
        "Enter the Matrix of Coefficiants --> A\n",
        "Enter the Matrix of Constants --> B"
      ],
      "metadata": {
        "id": "n2f56LO-4miC"
      }
    },
    {
      "cell_type": "code",
      "source": [
        "A = np.array([\n",
        "    #Enter here in list like this [column - wise],\n",
        "])\n",
        "B = np.array([\n",
        "    #Here\n",
        "])\n",
        "\n",
        "solve_linear_system(A, B)"
      ],
      "metadata": {
        "id": "QM0Tqgad4yDR"
      },
      "execution_count": null,
      "outputs": []
    }
  ]
}